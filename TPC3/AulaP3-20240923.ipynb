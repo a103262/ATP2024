{
 "cells": [
  {
   "cell_type": "markdown",
   "id": "1e545158",
   "metadata": {},
   "source": [
    "# Aula Prática 2 (guião)\n",
    "### Semana de 23 a 27 de Setembro de 2024\n",
    "### José Carlos Ramalho e Luís Cunha\n",
    "### Sinopsis:\n",
    "Algoritmos de cálculo numérico envolvendo estruturas condicionais (if-elif-else) e cíclicas (while)."
   ]
  },
  {
   "cell_type": "markdown",
   "id": "e38d18c4-d7d7-4fea-9bc6-e3f3c903386b",
   "metadata": {},
   "source": [
    "### Exercício 1: Soma de N números\n",
    "- Leia um número N;\n",
    "- Leia N números;\n",
    "- Imprima a soma dos N números."
   ]
  },
  {
   "cell_type": "code",
   "execution_count": 1,
   "id": "af973146-3bb4-4fa8-ba6c-b887b79ccff8",
   "metadata": {},
   "outputs": [],
   "source": [
    "# Solução do exercício 1\n",
    "soma = 0\n",
    "i= 0 # se aqui meter um 1 em vez de um 0 nao preciso de fazer {i+1} e faco logo {i}\n",
    "num= int(input(\"introduza o numero\"))\n",
    "while i<= num :\n",
    "    n = int(input(f\" introduza o numero {i + 1} de {n}\"))\n",
    "    soma= soma + n\n",
    "    i = i + 1\n",
    "print(soma)\n"
   ]
  },
  {
   "cell_type": "markdown",
   "id": "13b62657",
   "metadata": {},
   "source": [
    "### Exercício 2: Números pares\n",
    "- Leia um número N;\n",
    "- Leia N números;\n",
    "- Imprima os números pares na saída."
   ]
  },
  {
   "cell_type": "code",
   "execution_count": 5,
   "id": "0207a83c",
   "metadata": {},
   "outputs": [
    {
     "name": "stdout",
     "output_type": "stream",
     "text": [
      "4\n"
     ]
    }
   ],
   "source": [
    "\n",
    "i=0\n",
    "n = int(input(\"introduza o numero\")) # n vai ser o ciclo , X vai ser o valor !!! coisas diferentes\n",
    "while i<= n:\n",
    "    x = int(input(f\"introduza o numero {i + 1} de {n}\"))\n",
    "    i = i + 1\n",
    "    if i % 2 == 0:\n",
    "     print(x)"
   ]
  },
  {
   "cell_type": "markdown",
   "id": "bdcbffb0",
   "metadata": {},
   "source": [
    "### Exercício 3: O Maior de N números\n",
    "- Leia um número N;\n",
    "- Leia N números;\n",
    "- Imprima o maior dos N números."
   ]
  },
  {
   "cell_type": "code",
   "execution_count": 4,
   "id": "af973146-3bb4-4fa8-ba6c-b887b79ccff8",
   "metadata": {},
   "outputs": [
    {
     "name": "stdout",
     "output_type": "stream",
     "text": [
      "9\n"
     ]
    }
   ],
   "source": [
    "# Solução do exercício 3\n",
    "n = int(input (\" introduza um número\"))\n",
    "i = 1\n",
    "x = int(input(f\"introduza o numero {i} de {n}\")) #pq é que temos de meter isto 2 vezes ?\n",
    "m = x\n",
    "while i <= n - 1:\n",
    "    x = int(input(f\"introduza o numero {i} de {n} \"))\n",
    "    if x > m:\n",
    "        m = x \n",
    "    i = i + 1 \n",
    "print (m)\n",
    "\n"
   ]
  },
  {
   "cell_type": "markdown",
   "id": "bdcbffb0",
   "metadata": {},
   "source": [
    "### Exercício 4: O Menor de N números\n",
    "- Leia um número N;\n",
    "- Leia N números;\n",
    "- Imprima o menor dos N números."
   ]
  },
  {
   "cell_type": "code",
   "execution_count": 13,
   "id": "64ad6f7b",
   "metadata": {},
   "outputs": [
    {
     "name": "stdout",
     "output_type": "stream",
     "text": [
      "1\n"
     ]
    }
   ],
   "source": [
    "# Solução do exercício 4\n",
    "n = int(input(\"introduza o numero N\")) #lápis da me o menor lapis vao pegar e comparar uns com os outros e vao guardar smp o menor\n",
    "x = int(input(\"introduza o primeiro numero\")) # comecando com 0 nao ia haver valores menores , ia estar a comecar com lapis mais pequeno #para nao comecar com um numero enorme fazemos desta forma comecar com o primeiro numero que vou escolher \n",
    "m = x\n",
    "i = 1  #comecando com o i=0 tinhamos de depois subtrair 1 pq estariamos a repetir +1 vez\n",
    "while i <= n - 1:\n",
    "    x = int(input(f\"introduza um numero {i} de {n}\"))\n",
    "    if x < m:\n",
    "        m = x # se pegar no lapis x e ele for menor fico com o menor, guardo smp o menor na minha mao\n",
    "    i = i + 1 \n",
    "print(m)\n"
   ]
  },
  {
   "cell_type": "markdown",
   "id": "bdcbffb0",
   "metadata": {},
   "source": [
    "### Exercício 5: A Média de N números\n",
    "- Leia um número N;\n",
    "- Leia N números;\n",
    "- Imprima a média dos N números."
   ]
  },
  {
   "cell_type": "code",
   "execution_count": 4,
   "id": "a6c32b2e",
   "metadata": {},
   "outputs": [],
   "source": [
    "# Solução do exercício 5\n",
    "#como n tenho nenhum x fora nao preciso de fazer -1 em nenhuma parte da programacao\n",
    "n = int(input (\"introduza um número\")) \n",
    "i = 1\n",
    "soma = 0\n",
    "while i <= n :\n",
    "    x = int(input(f\"introduza o numero {i} de {n}\"))\n",
    "    soma = soma + x\n",
    "    i = i + 1 \n",
    "print(soma/n)"
   ]
  },
  {
   "cell_type": "markdown",
   "id": "46a52784",
   "metadata": {},
   "source": [
    "### Exercício 6: Potência\n",
    "- Defina uma função **pot** que recebe dois parâmetros, **a** e **b**, e retorna o resultado de **a elevado à potência de b**.\n",
    "- Use esta função para escrever no monitor as potências de 2 com expoentes de 1 a 20."
   ]
  },
  {
   "cell_type": "code",
   "execution_count": null,
   "id": "73ebf338",
   "metadata": {},
   "outputs": [],
   "source": [
    "# Solução do exercício 6\n",
    "def pot(a,b):\n",
    "    res= 1 # pode ser a ou 1 mas se for a temos de tirar uma coisa do ciclo\n",
    "    while b > 0:\n",
    "        res = res * a \n",
    "        b= b - 1\n",
    "    return res \n",
    "pot (2,3)"
   ]
  },
  {
   "cell_type": "code",
   "execution_count": 30,
   "id": "9fa3bdac",
   "metadata": {},
   "outputs": [
    {
     "ename": "NameError",
     "evalue": "name 'pot' is not defined",
     "output_type": "error",
     "traceback": [
      "\u001b[0;31m---------------------------------------------------------------------------\u001b[0m",
      "\u001b[0;31mNameError\u001b[0m                                 Traceback (most recent call last)",
      "Cell \u001b[0;32mIn[30], line 3\u001b[0m\n\u001b[1;32m      1\u001b[0m i \u001b[38;5;241m=\u001b[39m \u001b[38;5;241m1\u001b[39m\n\u001b[1;32m      2\u001b[0m \u001b[38;5;28;01mwhile\u001b[39;00m i \u001b[38;5;241m<\u001b[39m\u001b[38;5;241m=\u001b[39m \u001b[38;5;241m20\u001b[39m:\n\u001b[0;32m----> 3\u001b[0m     \u001b[38;5;28mprint\u001b[39m(\u001b[38;5;124mf\u001b[39m\u001b[38;5;124m\"\u001b[39m\u001b[38;5;124m2^\u001b[39m\u001b[38;5;132;01m{\u001b[39;00mi\u001b[38;5;132;01m}\u001b[39;00m\u001b[38;5;124m = \u001b[39m\u001b[38;5;132;01m{\u001b[39;00m\u001b[43mpot\u001b[49m(\u001b[38;5;241m2\u001b[39m,i)\u001b[38;5;132;01m}\u001b[39;00m\u001b[38;5;124m\"\u001b[39m)\n\u001b[1;32m      4\u001b[0m     i \u001b[38;5;241m=\u001b[39m i \u001b[38;5;241m+\u001b[39m \u001b[38;5;241m1\u001b[39m\n",
      "\u001b[0;31mNameError\u001b[0m: name 'pot' is not defined"
     ]
    }
   ],
   "source": [
    "i = 1\n",
    "while i <= 20:\n",
    "    print(f\"2^{i} = {pot(2,i)}\")\n",
    "    i = i + 1"
   ]
  },
  {
   "cell_type": "markdown",
   "id": "a09b4add",
   "metadata": {},
   "source": [
    "### Exercício 7: Divisão inteira\n",
    "- Defina uma função **divisao** que recebe dois parâmetros **a** e **b** e retorna o resultado da **divisão inteira de a por b** (neste exercício não poderá usar as operações de divisão '/' e do resto '%')."
   ]
  },
  {
   "cell_type": "code",
   "execution_count": null,
   "id": "43e6461e",
   "metadata": {},
   "outputs": [],
   "source": [
    "def divisao(a , b):\n",
    "\n",
    "    if b==0:\n",
    "        print(\"não é possível realizar esta operação\")\n",
    "    "
   ]
  },
  {
   "cell_type": "code",
   "execution_count": null,
   "id": "34025c23",
   "metadata": {},
   "outputs": [],
   "source": [
    "def divisao(a, b):\n",
    "    # Lidar com o caso de divisão por zero\n",
    "    if b == 0:\n",
    "        raise ValueError(\"Divisão por zero não é permitida.\")\n",
    "    \n",
    "    # Variáveis para resultado e para verificar o sinal do resultado\n",
    "    quociente = 0\n",
    "    sinal = 1\n",
    "\n",
    "    # Se o número for negativo, mudamos o sinal\n",
    "    if a < 0:\n",
    "        a = -a\n",
    "        sinal = -sinal  # Troca o sinal\n",
    "    if b < 0:\n",
    "        b = -b\n",
    "        sinal = -sinal  # Troca o sinal de novo\n",
    "\n",
    "    # Subtraímos repetidamente o valor de 'b' de 'a' e contamos quantas vezes isso acontece\n",
    "    while a >= b:\n",
    "        a -= b\n",
    "        quociente += 1\n",
    "    \n",
    "    # Retorna o quociente com o sinal correto\n",
    "    return quociente * sinal\n",
    "\n",
    "# Testes\n",
    "print(divisao(10, 3))   # Saída: 3\n",
    "print(divisao(20, 5))   # Saída: 4\n",
    "print(divisao(15, -3))  # Saída: -5\n",
    "print(divisao(-9, 2))   # Saída: -4\n",
    "print(divisao(-9, -2))  # Saída: 4\n"
   ]
  },
  {
   "cell_type": "markdown",
   "id": "0490effe",
   "metadata": {},
   "source": [
    "### Exercício 8: Resto\n",
    "- Defina uma função **resto** que recebe dois parâmetros **a** e **b** e retorna o **resto da divisão inteira de a por b** (neste exercício não poderá usar as operações de divisão '/' e do resto '%')."
   ]
  },
  {
   "cell_type": "code",
   "execution_count": null,
   "id": "3fea0e05",
   "metadata": {},
   "outputs": [],
   "source": [
    "# Solução do exercício 8\n"
   ]
  },
  {
   "cell_type": "markdown",
   "id": "d11cdd11",
   "metadata": {},
   "source": [
    "### Exercício 9: Série numérica\n",
    "- Defina uma função **serie** que recebe três parâmetros, **base**, **salto** e **nelems**, e escreve no monitor a série;\n",
    "- Invocada com: **serie(7, 4, 5)** escreveria: 7, 11, 15, 19, 23"
   ]
  },
  {
   "cell_type": "code",
   "execution_count": 6,
   "id": "7549c7d7",
   "metadata": {},
   "outputs": [],
   "source": [
    "# Solução do exercício 9\n"
   ]
  },
  {
   "cell_type": "markdown",
   "id": "73187e87",
   "metadata": {},
   "source": [
    "### Exercício 10: Desenhar um quadrado\n",
    "- Defina uma função **quad** que recebe um parâmetro, **n**, e desenha no monitor um quadrado usando o caráter '#'."
   ]
  },
  {
   "cell_type": "code",
   "execution_count": 7,
   "id": "a31f8eaf",
   "metadata": {},
   "outputs": [],
   "source": [
    "# Solução do exercício 10"
   ]
  },
  {
   "cell_type": "markdown",
   "id": "f4e2bc84",
   "metadata": {},
   "source": [
    "### Exercício 11: Índice de Massa Corporal\n",
    "- Defina uma função **imc** que recebe dois parâmetros, **peso**,**altura**, calcula o IMC corresponente e interpreta esse resultado.\n",
    "- imc(53,1.56) - Output: \"O seu índice de massa corporal é **21.78** e encontra-se na categoria **Normal**\"\n",
    "- imc(83,1.56) - Output: \"O seu índice de massa corporal é **34.11** e encontra-se na categoria **Obesidade grau I**\"\n",
    "\n",
    "Valores:\n",
    "- Menor que 18,5 - Baixo peso\n",
    "- 18,5 a 24,9 - Normal\n",
    "- 25 a 29,9\t- Excesso de peso\n",
    "- 30 a 34,9\t- Obesidade grau I\n",
    "- 35 a 39,9\t- Obesidade grau II\n",
    "- Maior que 40\t- Obesidade grau III"
   ]
  },
  {
   "cell_type": "code",
   "execution_count": 18,
   "id": "2a62004a",
   "metadata": {},
   "outputs": [],
   "source": [
    "# Solução do exercício 11"
   ]
  },
  {
   "cell_type": "markdown",
   "id": "cb1f80eb",
   "metadata": {},
   "source": [
    "### Exercício 12: Mínimo múltiplo comum \n",
    "\n",
    "- Defina uma função **mmc** que recebe dois parâmetros **a** e **b** e retorna como resultado o **mínimo múltiplo comum de a e b**."
   ]
  },
  {
   "cell_type": "code",
   "execution_count": null,
   "id": "739d6b09",
   "metadata": {},
   "outputs": [],
   "source": [
    "# Solução do exercício 12: mmc"
   ]
  },
  {
   "cell_type": "markdown",
   "id": "cb5c930a",
   "metadata": {},
   "source": [
    "### Exercício 13: Aplicação final \n",
    "\n",
    "Junta todos os exercícios que realizaste nesta ficha numa aplicação em Python:\n",
    "* Cria um menu com as funcionalidades desenvolvidas (faz uma função para escrever o menu);\n",
    "* Lê qual a opção do utilizador;\n",
    "* Executa a respetiva função, apresenta o resultado, e volta a colocar o menu e a questionar o utilizador;\n",
    "* Repete até o utilizador ter escolhido a opção de (S)air da aplicação.\n"
   ]
  },
  {
   "cell_type": "markdown",
   "id": "1cf1b437",
   "metadata": {},
   "source": [
    "## TPC3: Jogo dos 21 fósforos\n",
    "\n",
    "Desenvolve em Python o código necessário para o jogo dos 21 fósforos: \n",
    "\n",
    "### O jogo\n",
    "\n",
    "* No início do jogo, há 21 fósforos;\n",
    "* Cada jogador (computador ou utilizador), pode tirar 1, 2, 3 ou 4 fósforos quando for a sua vez de jogar;\n",
    "* Os jogadores jogam alternadamente;\n",
    "* **Quem tirar o último fósforo perde!**\n",
    "\n",
    "### O programa \n",
    "\n",
    "* O jogo deverá ter dois modos: o jogador joga em primeiro lugar e o computador começa a jogar em segundo lugar e, no segundo modo, o computador começa em primeiro; \n",
    "* Quando o computador começa a jogar em segundo lugar, deve ganhar sempre o jogo;\n",
    "* Quando o computador começa a jogar em primeiro lugar, se o utilizador cometer um erro de cálculo, o computador deverá passar para a posição de vencedor e ganhar o jogo."
   ]
  },
  {
   "cell_type": "code",
   "execution_count": 13,
   "id": "ac3f6ac9",
   "metadata": {},
   "outputs": [
    {
     "name": "stdout",
     "output_type": "stream",
     "text": [
      "Começa o utilizador a jogar!\n"
     ]
    },
    {
     "ename": "KeyboardInterrupt",
     "evalue": "Interrupted by user",
     "output_type": "error",
     "traceback": [
      "\u001b[0;31m---------------------------------------------------------------------------\u001b[0m",
      "\u001b[0;31mKeyboardInterrupt\u001b[0m                         Traceback (most recent call last)",
      "Cell \u001b[0;32mIn[13], line 31\u001b[0m\n\u001b[1;32m     29\u001b[0m \u001b[38;5;28mprint\u001b[39m(\u001b[38;5;124m\"\u001b[39m\u001b[38;5;124mComeça o utilizador a jogar!\u001b[39m\u001b[38;5;124m\"\u001b[39m)\n\u001b[1;32m     30\u001b[0m \u001b[38;5;28;01mwhile\u001b[39;00m fosforos\u001b[38;5;241m>\u001b[39m\u001b[38;5;241m0\u001b[39m:\n\u001b[0;32m---> 31\u001b[0m     n\u001b[38;5;241m=\u001b[39m \u001b[43mprimeiro_jogador\u001b[49m\u001b[43m(\u001b[49m\u001b[43mfosforos\u001b[49m\u001b[43m)\u001b[49m\n\u001b[1;32m     32\u001b[0m     fosforos\u001b[38;5;241m=\u001b[39m fosforos \u001b[38;5;241m-\u001b[39m n \n\u001b[1;32m     33\u001b[0m     \u001b[38;5;28mprint\u001b[39m(\u001b[38;5;124mf\u001b[39m\u001b[38;5;124m\"\u001b[39m\u001b[38;5;124mRestam \u001b[39m\u001b[38;5;132;01m{\u001b[39;00mfosforos\u001b[38;5;132;01m}\u001b[39;00m\u001b[38;5;124m fosforos\u001b[39m\u001b[38;5;124m\"\u001b[39m)\n",
      "Cell \u001b[0;32mIn[13], line 15\u001b[0m, in \u001b[0;36mprimeiro_jogador\u001b[0;34m(fosforos)\u001b[0m\n\u001b[1;32m     14\u001b[0m \u001b[38;5;28;01mdef\u001b[39;00m \u001b[38;5;21mprimeiro_jogador\u001b[39m(fosforos):\n\u001b[0;32m---> 15\u001b[0m     n\u001b[38;5;241m=\u001b[39m \u001b[38;5;28mint\u001b[39m(\u001b[38;5;28;43minput\u001b[39;49m\u001b[43m(\u001b[49m\u001b[38;5;124;43m\"\u001b[39;49m\u001b[38;5;124;43mQuantos fósforos quer retirar? Escolha um valor entre 1 a 4 \u001b[39;49m\u001b[38;5;124;43m\"\u001b[39;49m\u001b[43m)\u001b[49m)\n\u001b[1;32m     16\u001b[0m     \u001b[38;5;28;01mif\u001b[39;00m n \u001b[38;5;129;01min\u001b[39;00m [\u001b[38;5;241m1\u001b[39m, \u001b[38;5;241m2\u001b[39m, \u001b[38;5;241m3\u001b[39m, \u001b[38;5;241m4\u001b[39m] \u001b[38;5;129;01mand\u001b[39;00m n\u001b[38;5;241m<\u001b[39m\u001b[38;5;241m=\u001b[39m fosforos:\n\u001b[1;32m     17\u001b[0m         \u001b[38;5;28;01mreturn\u001b[39;00m n\n",
      "File \u001b[0;32m~/Library/Python/3.12/lib/python/site-packages/ipykernel/kernelbase.py:1282\u001b[0m, in \u001b[0;36mKernel.raw_input\u001b[0;34m(self, prompt)\u001b[0m\n\u001b[1;32m   1280\u001b[0m     msg \u001b[38;5;241m=\u001b[39m \u001b[38;5;124m\"\u001b[39m\u001b[38;5;124mraw_input was called, but this frontend does not support input requests.\u001b[39m\u001b[38;5;124m\"\u001b[39m\n\u001b[1;32m   1281\u001b[0m     \u001b[38;5;28;01mraise\u001b[39;00m StdinNotImplementedError(msg)\n\u001b[0;32m-> 1282\u001b[0m \u001b[38;5;28;01mreturn\u001b[39;00m \u001b[38;5;28;43mself\u001b[39;49m\u001b[38;5;241;43m.\u001b[39;49m\u001b[43m_input_request\u001b[49m\u001b[43m(\u001b[49m\n\u001b[1;32m   1283\u001b[0m \u001b[43m    \u001b[49m\u001b[38;5;28;43mstr\u001b[39;49m\u001b[43m(\u001b[49m\u001b[43mprompt\u001b[49m\u001b[43m)\u001b[49m\u001b[43m,\u001b[49m\n\u001b[1;32m   1284\u001b[0m \u001b[43m    \u001b[49m\u001b[38;5;28;43mself\u001b[39;49m\u001b[38;5;241;43m.\u001b[39;49m\u001b[43m_parent_ident\u001b[49m\u001b[43m[\u001b[49m\u001b[38;5;124;43m\"\u001b[39;49m\u001b[38;5;124;43mshell\u001b[39;49m\u001b[38;5;124;43m\"\u001b[39;49m\u001b[43m]\u001b[49m\u001b[43m,\u001b[49m\n\u001b[1;32m   1285\u001b[0m \u001b[43m    \u001b[49m\u001b[38;5;28;43mself\u001b[39;49m\u001b[38;5;241;43m.\u001b[39;49m\u001b[43mget_parent\u001b[49m\u001b[43m(\u001b[49m\u001b[38;5;124;43m\"\u001b[39;49m\u001b[38;5;124;43mshell\u001b[39;49m\u001b[38;5;124;43m\"\u001b[39;49m\u001b[43m)\u001b[49m\u001b[43m,\u001b[49m\n\u001b[1;32m   1286\u001b[0m \u001b[43m    \u001b[49m\u001b[43mpassword\u001b[49m\u001b[38;5;241;43m=\u001b[39;49m\u001b[38;5;28;43;01mFalse\u001b[39;49;00m\u001b[43m,\u001b[49m\n\u001b[1;32m   1287\u001b[0m \u001b[43m\u001b[49m\u001b[43m)\u001b[49m\n",
      "File \u001b[0;32m~/Library/Python/3.12/lib/python/site-packages/ipykernel/kernelbase.py:1325\u001b[0m, in \u001b[0;36mKernel._input_request\u001b[0;34m(self, prompt, ident, parent, password)\u001b[0m\n\u001b[1;32m   1322\u001b[0m \u001b[38;5;28;01mexcept\u001b[39;00m \u001b[38;5;167;01mKeyboardInterrupt\u001b[39;00m:\n\u001b[1;32m   1323\u001b[0m     \u001b[38;5;66;03m# re-raise KeyboardInterrupt, to truncate traceback\u001b[39;00m\n\u001b[1;32m   1324\u001b[0m     msg \u001b[38;5;241m=\u001b[39m \u001b[38;5;124m\"\u001b[39m\u001b[38;5;124mInterrupted by user\u001b[39m\u001b[38;5;124m\"\u001b[39m\n\u001b[0;32m-> 1325\u001b[0m     \u001b[38;5;28;01mraise\u001b[39;00m \u001b[38;5;167;01mKeyboardInterrupt\u001b[39;00m(msg) \u001b[38;5;28;01mfrom\u001b[39;00m \u001b[38;5;28;01mNone\u001b[39;00m\n\u001b[1;32m   1326\u001b[0m \u001b[38;5;28;01mexcept\u001b[39;00m \u001b[38;5;167;01mException\u001b[39;00m:\n\u001b[1;32m   1327\u001b[0m     \u001b[38;5;28mself\u001b[39m\u001b[38;5;241m.\u001b[39mlog\u001b[38;5;241m.\u001b[39mwarning(\u001b[38;5;124m\"\u001b[39m\u001b[38;5;124mInvalid Message:\u001b[39m\u001b[38;5;124m\"\u001b[39m, exc_info\u001b[38;5;241m=\u001b[39m\u001b[38;5;28;01mTrue\u001b[39;00m)\n",
      "\u001b[0;31mKeyboardInterrupt\u001b[0m: Interrupted by user"
     ]
    }
   ],
   "source": [
    "import random \n",
    "def jogo_fosforo():\n",
    "    print(\"Bem vindos ao jogo dos fósforos.\")\n",
    "    print(\"Modo 1: O jogador joga em primeiro lugar e o computador em segundo.\")\n",
    "    print(\"Modo 2: o computador começa em primeiro.\")\n",
    "\n",
    "modo= int(input(\"Escolha uma modalidade. Insira 1 ou 2.\"))\n",
    "while modo not in [\"1\",\"2\"]:\n",
    "    modo= input(\" Escolha o modo do jogo: 1-utilizador começa primeiro; 2- jogador começa primeiro\")\n",
    "\n",
    "\n",
    "fosforos= 21\n",
    "\n",
    "def primeiro_jogador(fosforos):\n",
    "    n= int(input(\"Quantos fósforos quer retirar? Escolha um valor entre 1 a 4 \"))\n",
    "    if n in [1, 2, 3, 4] and n<= fosforos:\n",
    "        return n\n",
    "    else:\n",
    "        print(\"Não é possível retirar esse número de fósforos\")\n",
    "\n",
    "def primeiro_computador(fosforos):\n",
    "    n= (fosforos - 1)% 5\n",
    "    if n== 0:\n",
    "        n= random.randint(1,4)\n",
    "    print(f\"O computador retirou {n} fósforos.\")\n",
    "    return n\n",
    "\n",
    "if modo ==\"1\":\n",
    "    print(\"Começa o utilizador a jogar!\")\n",
    "    while fosforos>0:\n",
    "        n= primeiro_jogador(fosforos)\n",
    "        fosforos= fosforos - n \n",
    "        print(f\"Restam {fosforos} fosforos\")\n",
    "\n",
    "        if fosforos ==0 :\n",
    "         print(\"O jogo terminou, o jogador perdeu.\")\n",
    "\n",
    "        n= primeiro_computador(fosforos)\n",
    "        fosforos= fosforos - n\n",
    "        print(f\"restam {fosforos} fosforos \")\n",
    "\n",
    "        if fosforos == 0:\n",
    "            print(\" O jogo terminou, o cpmputador perdeu.\")\n",
    "            break \n",
    "    \n",
    "else:\n",
    "    print(\"O computador inicia a jogada \")\n",
    "    while fosforos> 0:\n",
    "        n= primeiro_computador(fosforos)\n",
    "        fosforos -= n\n",
    "        print(f\"restam {fosforos} fosforos \")\n",
    "\n",
    "        if fosforos== 0:\n",
    "            print(\"Perdeu o jogo! O último fósforo escolhido foi seu.\")\n",
    "            break\n",
    "\n",
    "\n",
    "\n",
    "\n"
   ]
  }
 ],
 "metadata": {
  "kernelspec": {
   "display_name": "Python 3.9.7 64-bit",
   "language": "python",
   "name": "python3"
  },
  "language_info": {
   "codemirror_mode": {
    "name": "ipython",
    "version": 3
   },
   "file_extension": ".py",
   "mimetype": "text/x-python",
   "name": "python",
   "nbconvert_exporter": "python",
   "pygments_lexer": "ipython3",
   "version": "3.12.6"
  },
  "vscode": {
   "interpreter": {
    "hash": "916dbcbb3f70747c44a77c7bcd40155683ae19c65e1c03b4aa3499c5328201f1"
   }
  }
 },
 "nbformat": 4,
 "nbformat_minor": 5
}
