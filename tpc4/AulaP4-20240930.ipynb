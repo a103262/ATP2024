{
 "cells": [
  {
   "cell_type": "markdown",
   "id": "1e545158",
   "metadata": {},
   "source": [
    "# Aula Prática 4 (guião)\n",
    "### Semana de 30 de Setembro a 4 de Outubro de 2024\n",
    "### José Carlos Ramalho e Luís Cunha\n",
    "### Sinopsis:\n",
    "Algoritmos sobre listas."
   ]
  },
  {
   "cell_type": "markdown",
   "id": "e38d18c4-d7d7-4fea-9bc6-e3f3c903386b",
   "metadata": {},
   "source": [
    "### Exercício 1: Criar uma lista \n",
    "- Defina uma função que recebe um argumento **N** e devolve uma  lista com os números ímpares até **N**;\n",
    "- Crie um programa que chama a função e imprime a lista resultante."
   ]
  },
  {
   "cell_type": "code",
   "execution_count": 2,
   "id": "af973146-3bb4-4fa8-ba6c-b887b79ccff8",
   "metadata": {},
   "outputs": [
    {
     "name": "stdout",
     "output_type": "stream",
     "text": [
      "A soma é  12\n"
     ]
    }
   ],
   "source": [
    "# Solução do exercício 1\n",
    "def criaLista(N):\n",
    "    res=[] #criar a lista \n",
    "    for num in range (N + 1): #range por em parenteses quando comeca acaba\n",
    "        if num % 2!=0:\n",
    "            res.append(num) # apend acrescenta numero\n",
    "        \n",
    "    return res\n",
    "\n",
    "print(criaLista(10))\n",
    "\n",
    "def criaLista2(N):\n",
    "    res =[]\n",
    "    i = 1\n",
    "    while i <= N:\n",
    "        if i % 2 != 0:\n",
    "            res.append(i)\n",
    "        i = i + 1 \n",
    "    return res \n",
    "def criaLista3(N):\n",
    "    res = []\n",
    "    for num in range (1,N + 1,2):\n",
    "        res.append(num)\n",
    "    return res \n",
    "\n",
    "criaLista3(11)\n",
    "# x = [expressao for elem in lista if condicao ]\n",
    "\n",
    "def criaLista4(N):\n",
    "    res = [ num for num in range (N + 1) if num % 2 != 0 ]\n",
    "\n",
    "def criaLista5(N):\n",
    "    return[ num for num in range (1, N + 1, 2)]\n",
    "\n",
    "\n",
    "\n"
   ]
  },
  {
   "cell_type": "markdown",
   "id": "bdcbffb0",
   "metadata": {},
   "source": [
    "### Exercício 2: Ler uma lista de N números\n",
    "- Defina uma função que recebe um argumento **N** e lê **N** números armazenando-os numa lista que é devolvida como resultado;\n",
    "- Crie um programa que chama a função e imprime a lista resultante."
   ]
  },
  {
   "cell_type": "code",
   "execution_count": 4,
   "id": "af973146-3bb4-4fa8-ba6c-b887b79ccff8",
   "metadata": {},
   "outputs": [],
   "source": [
    "# Solução do exercício 2\n",
    "def leLista(N):\n",
    "    i =0\n",
    "    res =[] \n",
    "    while i <=N:\n",
    "        num =int(input(\"introduza um numero {i} a ser adicionado à lista\"))\n",
    "        res.append(num)\n",
    "        i = i + 1\n",
    "\n",
    "    return res \n",
    "\n",
    "def leLista2(N):\n",
    "    res =[]\n",
    "    for num in range(N):\n",
    "        x =int(input(f\"introduza o número {num+1} a ser adicionado a lista\"))   #num + 1 pq assim n excluiu nenhum numero \n",
    "        res.append(x)\n",
    "    return res \n",
    "\n",
    "listaA = leLista2(5)\n",
    "print(listaA)\n"
   ]
  },
  {
   "cell_type": "markdown",
   "id": "bdcbffb0",
   "metadata": {},
   "source": [
    "### Exercício 3: Somar uma lista de números\n",
    "- Defina uma função que recebe uma lista como argumento e devolve a soma dos números nessa lista."
   ]
  },
  {
   "cell_type": "code",
   "execution_count": null,
   "id": "64ad6f7b",
   "metadata": {},
   "outputs": [],
   "source": [
    "# Solução do exercício 3\n",
    "listaA = [1,6,7,5]\n",
    "listaB =[5,5,4,6]\n",
    "\n",
    "def somaLista(lista):\n",
    "    soma = 0\n",
    "    for num in lista:\n",
    "        soma = soma + num \n",
    "    \n",
    "    return soma \n",
    "somaLista(listaA)\n",
    "\n",
    "K = somaLista(listaA) + somaLista(listaB)\n",
    "print(K)\n",
    "    \n"
   ]
  },
  {
   "cell_type": "markdown",
   "id": "65565661",
   "metadata": {},
   "source": [
    "### Exercício 4: Quadrado dos elementos de uma lista\n",
    "\n",
    "- Defina uma função que recebe uma lista como argumento e devolve uma nova lista com os quadrados de cada número da lista inicial. \n",
    "\n",
    "#### Input (exemplo)\n",
    "in: [1, 2, 3, 4]\n",
    "#### Output (exemplo)\n",
    "out: [1, 4, 9, 16]"
   ]
  },
  {
   "cell_type": "code",
   "execution_count": null,
   "id": "7e3e2775",
   "metadata": {},
   "outputs": [],
   "source": [
    "# Solução do exercício 4\n",
    "def quadrados(lista):\n",
    "    res = []\n",
    "    for num in lista:\n",
    "        #x = num * num\n",
    "        res.append(num*num)\n",
    "    return res \n",
    "    \n",
    "def quadrados2(lista):\n",
    "    return[ num*num for num in lista]"
   ]
  },
  {
   "cell_type": "markdown",
   "id": "bdcbffb0",
   "metadata": {},
   "source": [
    "### Exercício 5: Calcular a média duma lista de números\n",
    "- Defina uma função que recebe uma lista como argumento e devolve a média dos números nessa lista."
   ]
  },
  {
   "cell_type": "code",
   "execution_count": null,
   "id": "a6c32b2e",
   "metadata": {},
   "outputs": [],
   "source": [
    "# Solução do exercício 5\n",
    "def mediaLista(lista):\n",
    "    if len(lista) == 0:\n",
    "        return 0\n",
    "    soma = 0\n",
    "    for n in lista :\n",
    "        soma = soma + n\n",
    "        media = soma / len(lista)\n",
    "    return media \n",
    "mediaLista([1,3,5])\n",
    "\n",
    "def mediaLista2(lista):\n",
    "    soma = somaLista(lista)\n",
    "    return soma/ len(lista)"
   ]
  },
  {
   "cell_type": "markdown",
   "id": "f41ef69b",
   "metadata": {},
   "source": [
    "### Exercício 6: Maior de uma sequência\n",
    "- Defina uma função que recebe uma lista como argumento e devolve o maior número nessa lista."
   ]
  },
  {
   "cell_type": "code",
   "execution_count": null,
   "id": "6da11f0a",
   "metadata": {},
   "outputs": [],
   "source": []
  },
  {
   "cell_type": "markdown",
   "id": "d11cdd11",
   "metadata": {},
   "source": [
    "### Exercício 6: Menor de uma sequência\n",
    "- Defina uma função que recebe uma lista como argumento e devolve o menor número nessa lista."
   ]
  },
  {
   "cell_type": "code",
   "execution_count": null,
   "id": "86f5b24d",
   "metadata": {},
   "outputs": [],
   "source": [
    "# Solução do exercício 6\n",
    "def menorLista(lista):\n",
    "    menor = lista [0]\n",
    "    i = 0 \n",
    "    while i < len(lista):\n",
    "        if lista[i] < menor:\n",
    "            menor= lista[i]\n",
    "        i = i + 1\n",
    "    return menor \n",
    "\n",
    "#lista [start:stop: step]\n",
    "def menorLista(lista):\n",
    "    menor = lista[0]\n",
    "    for num in lista:\n",
    "        if num < menor:\n",
    "            menor = num \n",
    "    return menor \n",
    "\n",
    "menorLista([1,2,6,10,-1])"
   ]
  },
  {
   "cell_type": "markdown",
   "id": "bb597e57",
   "metadata": {},
   "source": [
    "### Exercício 7: Contar Ocorrências\n",
    "- Defina uma função que recebe uma lista e um elemento como argumento, e que devolve o número de ocurrências desse elemento na lista."
   ]
  },
  {
   "cell_type": "code",
   "execution_count": null,
   "id": "e426e923",
   "metadata": {},
   "outputs": [],
   "source": [
    "# Solução do exercício 7\n",
    "def occor(lista, elem):\n",
    "    \n",
    "    return"
   ]
  },
  {
   "cell_type": "markdown",
   "id": "775a02a5",
   "metadata": {},
   "source": [
    "### Exercício 8: Contar strings\n",
    "- Defina uma função que recebe uma lista de strings como argumento e devolve número de strings nessa lista que:\n",
    "    1. Têm tamanho maior ou igual a 3;\n",
    "    2. Começam e terminam pelo mesmo caracter.\n",
    "#### Input (exemplo)\n",
    "in: ['abc', 'xyz', 'ab', '1221']\n",
    "#### Output (exemplo)\n",
    "out1: 3\n",
    "\n",
    "out2: 1"
   ]
  },
  {
   "cell_type": "code",
   "execution_count": null,
   "id": "7390bc6a",
   "metadata": {},
   "outputs": [],
   "source": [
    "# Solução do exercício 8\n",
    "def contarStringsLista(lista):\n",
    "    count = 0\n",
    "    for elem in lista:\n",
    "        if len(elem) >= 3 and elem [0] == elem [-1]:\n",
    "            count = count + 1 \n",
    "    return count\n",
    "\n"
   ]
  },
  {
   "cell_type": "markdown",
   "id": "f9ba457b",
   "metadata": {},
   "source": [
    "### Exercício 9: Remover duplicados\n",
    "- Defina uma função que recebe uma lista como argumento e devolve uma nova lista eliminando elementos repetidos."
   ]
  },
  {
   "cell_type": "code",
   "execution_count": null,
   "id": "0abc61e5",
   "metadata": {},
   "outputs": [],
   "source": [
    "# Solução do exercício 9\n",
    "def remDupLista(lista):\n",
    "    res = []\n",
    "    for num in lista:\n",
    "        if num not in res:\n",
    "            res.append(num)\n",
    "    return res \n",
    "\n",
    "\n"
   ]
  },
  {
   "cell_type": "markdown",
   "id": "9bc471d8",
   "metadata": {},
   "source": [
    "### Exercício 10: eVazia?\n",
    "- Defina uma função que recebe uma lista como argumento e devolve um resultado booleano verdadeiro se a lista estiver vazia."
   ]
  },
  {
   "cell_type": "code",
   "execution_count": null,
   "id": "18cf2aff",
   "metadata": {},
   "outputs": [],
   "source": [
    "# Solução do exercício 10\n",
    "def eVazia(lista):\n",
    "    if lista == []:\n",
    "        return True \n",
    "    else:\n",
    "        return False \n",
    "    \n",
    "def eVazia2(lista):\n",
    "    #return lista == []\n",
    "    return len(lista) == 0\n",
    "\n",
    "    "
   ]
  },
  {
   "cell_type": "markdown",
   "id": "72b8fac0",
   "metadata": {},
   "source": [
    "### Exercício 11: Copiar lista\n",
    "- Defina uma função que recebe uma lista como argumento e devolve uma nova lista correspondente a uma cópia da lista recebida."
   ]
  },
  {
   "cell_type": "code",
   "execution_count": null,
   "id": "a61ca503",
   "metadata": {},
   "outputs": [],
   "source": [
    "# Solução do exercício 11\n",
    "def copiarLista(lista):\n",
    "    \n",
    "    return"
   ]
  },
  {
   "cell_type": "markdown",
   "id": "d170cc50",
   "metadata": {},
   "source": [
    "### Exercício 12: Strings maiores que n carateres\n",
    "- Defina uma função que recebe dois argumentos, uma lista de strings e um número inteiro, e que devolve uma nova lista de strings em que estas têm um comprimento igual ou superior ao valor inteiro passado como argumento."
   ]
  },
  {
   "cell_type": "code",
   "execution_count": null,
   "id": "1944ef1d",
   "metadata": {},
   "outputs": [],
   "source": [
    "# Solução do exercício 12\n",
    "def stringsMaioresLista(lista, n):\n",
    "    \n",
    "    return"
   ]
  },
  {
   "cell_type": "markdown",
   "id": "af46fe06",
   "metadata": {},
   "source": [
    "### Exercício 13: Comum?\n",
    "- Defina uma função que recebe duas listas como argumento, e que devolve o valor booleano verdadeiro se as listas tiverem pelo menos um elemento comum."
   ]
  },
  {
   "cell_type": "code",
   "execution_count": null,
   "id": "7a2f4413",
   "metadata": {},
   "outputs": [],
   "source": [
    "# Solução do exercício 13\n",
    "def haComuns(listaA, listaB):\n",
    "    cond= False \n",
    "    for n in listaA:\n",
    "        if n in listaB:\n",
    "            cond= True\n",
    "        return cond \n",
    "    \n",
    " def haComuns(listaA, listaB):\n",
    "    cond= False\n",
    "    i = 0\n",
    "    while i < len(listaA):\n",
    "        if listaA[i] in listaB:\n",
    "            cond = True\n",
    "        i = i + 1 \n",
    "    return cond "
   ]
  },
  {
   "cell_type": "markdown",
   "id": "061bae0e",
   "metadata": {},
   "source": [
    "### Exercício 14: Comuns\n",
    "- Defina uma função que recebe duas listas como argumento, e que devolve uma nova lista com os valores comuns às duas listas."
   ]
  },
  {
   "cell_type": "code",
   "execution_count": null,
   "id": "02db9458",
   "metadata": {},
   "outputs": [],
   "source": [
    "# Solução do exercício 14\n",
    "def comuns(listaA, listaB):\n",
    "    \n",
    "    return"
   ]
  },
  {
   "cell_type": "markdown",
   "id": "af4f2b11",
   "metadata": {},
   "source": [
    "### Exercício 15: Únicos\n",
    "- Defina uma função que recebe duas listas como argumento, e que devolve uma nova lista com os valores que apenas existem numa delas."
   ]
  },
  {
   "cell_type": "code",
   "execution_count": null,
   "id": "01a0d35e",
   "metadata": {},
   "outputs": [],
   "source": [
    "# Solução do exercício 15\n",
    "def unicos(listaA, listaB):\n",
    "    \n",
    "    return"
   ]
  },
  {
   "cell_type": "markdown",
   "id": "2acbab46",
   "metadata": {},
   "source": [
    "### Exercício 16: indiceDe\n",
    "- Defina uma função que recebe uma lista e um elemento como argumento, e que devolve o índice desse elemento na lista. No caso do elemento não existir na lista deverá devolver o valor -1."
   ]
  },
  {
   "cell_type": "code",
   "execution_count": null,
   "id": "3891e6c3",
   "metadata": {},
   "outputs": [],
   "source": [
    "# Solução do exercício 16\n",
    "def unicos(lista, elem):\n",
    "    \n",
    "    return"
   ]
  },
  {
   "cell_type": "markdown",
   "id": "1d9c2fbc",
   "metadata": {},
   "source": [
    "### Exercício 17: estaOrdenada\n",
    "- Defina uma função que recebe uma lista de números e verifica se a mesma está ordenada por ordem crescente."
   ]
  },
  {
   "cell_type": "code",
   "execution_count": null,
   "id": "fb44546a",
   "metadata": {},
   "outputs": [],
   "source": [
    "# Solução do exercício 17\n",
    "def estaOrdenada(lista):\n",
    "    \n",
    "    return"
   ]
  },
  {
   "cell_type": "markdown",
   "id": "4c48dc90",
   "metadata": {},
   "source": [
    "### Exercício 18: estaOrdenadaCD\n",
    "- Modifique a função do exercício anterior para receber um parâmetro extra, **ordem**, que poderá ter valores \"C\" ou \"D\" e que vai verificar se a lista está ordenada por ordem crescente se **ordem=\"C\"** ou se está ordenada por ordem decrescente se **ordem=\"D\"**."
   ]
  },
  {
   "cell_type": "code",
   "execution_count": null,
   "id": "f4b83960",
   "metadata": {},
   "outputs": [],
   "source": [
    "# Solução do exercício 18\n",
    "def estaOrdenadaCD(lista, ordem):\n",
    "    \n",
    "    return"
   ]
  },
  {
   "cell_type": "markdown",
   "id": "4193a91b",
   "metadata": {},
   "source": [
    "### TPC4: Aplicação para manipulação de listas de inteiros\n",
    "- Crie uma aplicação em Python que coloca no monitor o seguinte menu:\n",
    "    * (1) Criar Lista \n",
    "    * (2) Ler Lista\n",
    "    * (3) Soma\n",
    "    * (4) Média\n",
    "    * (5) Maior\n",
    "    * (6) Menor\n",
    "    * (7) estaOrdenada por ordem crescente\n",
    "    * (8) estaOrdenada por ordem decrescente\n",
    "    * (9) Procura um elemento\n",
    "    * (0) Sair\n",
    "- O utilizador irá escolher uma das opções introduzindo o número correspondente;\n",
    "- Se a opção não for sair, a aplicação executa a operação pretendida, apresenta o resultado e a seguir apresenta de novo o menu;\n",
    "- Se a opção for sair, a aplicação termina colocando uma mensagem no monitor.\n",
    "\n",
    "* No desenvolvimento da aplicação deverá ter em atenção o seguinte:\n",
    "    - A aplicação terá uma variável interna para guardar uma lista de números;\n",
    "    - Na opção 1, deverá ser criada uma lista de números aleatórios entre 1 e 100 que será guardada na variável interna;\n",
    "    - Na opção 2, deverá ser criada uma lista com números introduzidos pelo utilizador, que será guardada na variável interna;\n",
    "    - Nestas primeiras opções, se a variável interna já tiver uma lista, esta será sobreposta/apagada pela nova lista;\n",
    "    - Na opção 3, será calculada a soma dos elementos na lista no momento;\n",
    "    - Na opção 4, será calculada a média dos elementos na lista no momento;\n",
    "    - Na opção 5, será calculado o maior elemento da lista no momento;\n",
    "    - Na opção 6, será calculado o menor elemento da lista no momento;\n",
    "    - Na opção 7, a aplicação deverá indicar (Sim/Não) se a lista está ordenada por ordem crescente;\n",
    "    - Na opção 8, a aplicação deverá indicar (Sim/Não) se a lista está ordenada por ordem decrescente;\n",
    "    - Na opção 9, a aplicação irá procurar um elemento na lista, se o encontrar deverá devolver a sua posição, devolverá -1 se o elemento não estiver na lista;\n",
    "    - Se o utilizador selecionar a opção 0, a aplicação deverá terminar mostrando a lista que está nesse momento guardada."
   ]
  },
  {
   "cell_type": "code",
   "execution_count": null,
   "id": "e518d41c",
   "metadata": {},
   "outputs": [],
   "source": [
    "\n",
    "def menu():\n",
    "    print(\"Menu: \")\n",
    "    print(\"(1)Criar Lista\")\n",
    "    print(\"(2)Ler Lista\")\n",
    "    print(\"(3) Soma\")\n",
    "    print(\"(4) Média\")\n",
    "    print(\"(5) Maior\")\n",
    "    print(\"(6) Menor\")\n",
    "    print(\"(7) Ordem Crescente\")\n",
    "    print(\"(8) Ordem Decrescente\")\n",
    "    print(\"(9) Procurar um Elemento\")\n",
    "    print(\"(0) Sair\")\n",
    "        \n",
    "    opcao = input(\"Escolha uma opção: \")\n",
    "\n",
    "    if opcao == '1':\n",
    "        lista = criarLista()\n",
    "        print(f\"Lista criada: {lista}\")\n",
    "        \n",
    "    elif opcao == '2':\n",
    "        lista = lerLista()\n",
    "        print(f\"Lista lida: {lista}\")\n",
    "        \n",
    "    elif opcao == '3':\n",
    "            print(f\"Soma dos elementos: {somaLista(lista)}\")\n",
    "        \n",
    "    elif opcao == '4':\n",
    "            print(f\"Média dos elementos: {mediaLista(lista):.2f}\")\n",
    "        \n",
    "    elif opcao == '5':\n",
    "            print(f\"Maior elemento: {maiorLista(lista)}\")\n",
    "        \n",
    "    elif opcao == '6':\n",
    "            print(f\"Menor elemento: {menorLista(lista)}\")\n",
    "        \n",
    "    elif opcao == '7':\n",
    "            print(f\"Está ordenada por ordem crescente? {'Sim' if estaOrdenadacrescente(lista) else 'Não'}\")\n",
    "        \n",
    "    elif opcao == '8':\n",
    "            print(f\"Está ordenada por ordem decrescente? {'Sim' if estaOrdenadadecrescente(lista) else 'Não'}\")\n",
    "        \n",
    "    elif opcao == '9':\n",
    "            elemento = int(input(\"Digite o número a procurar: \"))\n",
    "            posicao = procurar_elemento(lista, elemento)\n",
    "            if posicao != -1:\n",
    "                print(f\"Elemento encontrado na posição {posicao}\")\n",
    "            else:\n",
    "                print(\"Elemento não encontrado.\")\n",
    "        \n",
    "        elif opcao == '0':\n",
    "            print(f\"Lista final: {lista}\")\n",
    "            print(\"A sair da aplicação\")\n",
    "            break\n",
    "        \n",
    "        else:\n",
    "            print(\"Opção inválida. Tente novamente.\")\n",
    "\n",
    "\n",
    "\n",
    "def criaLista(N):\n",
    "     #criar a lista \n",
    "    return[random.randint(1, 100) for _ in range(10)]\n",
    "\n",
    "#ler lista \n",
    "def lerLista(N):\n",
    "    i =0\n",
    "    res =[] \n",
    "    while i <=N:\n",
    "        num =int(input(f\"introduza um numero {i+1} a ser adicionado à lista\"))\n",
    "        res.append(num)\n",
    "        i = i + 1\n",
    "\n",
    "    return res \n",
    "#somar\n",
    "\n",
    "def somaLista(lista):\n",
    "    soma = 0\n",
    "    for num in lista:\n",
    "        soma = soma + num \n",
    "    \n",
    "    return soma \n",
    "\n",
    "    \n",
    "# media\n",
    "def mediaLista(lista):\n",
    "    if len(lista) == 0:\n",
    "        return 0\n",
    "    soma = 0\n",
    "    for n in lista :\n",
    "        soma = soma + n\n",
    "        media = soma / len(lista)\n",
    "    return media \n",
    "\n",
    "# maior- identico ao menor  \n",
    "def maiorLista(lista):\n",
    "    maior = lista [0]\n",
    "    i = 0 \n",
    "    while i > len(lista):\n",
    "        if lista[i] > maior:\n",
    "            maior = lista[i]\n",
    "        i = i + 1\n",
    "    return maior \n",
    "\n",
    "#menor \n",
    "def menorLista(lista):\n",
    "    menor = lista [0]\n",
    "    i = 0 \n",
    "    while i < len(lista):\n",
    "        if lista[i] < menor:\n",
    "            menor= lista[i]\n",
    "        i = i + 1\n",
    "    return menor \n",
    "\n",
    "#ordem crescente \n",
    "def estaOrdenada(lista):\n",
    "    return lista == sorted(lista)\n",
    "\n",
    "# ordem decrescente\n",
    "def estaOrdenada(lista):\n",
    "    return lista == sorted(lista, reverse=True)\n",
    "    \n",
    "def procurarLista(lista, elemento):\n",
    "    return lista.index(elemento) if elemento in lista else -1\n",
    "\n",
    "    "
   ]
  }
 ],
 "metadata": {
  "kernelspec": {
   "display_name": "Python 3.9.1 64-bit",
   "language": "python",
   "name": "python3"
  },
  "language_info": {
   "codemirror_mode": {
    "name": "ipython",
    "version": 3
   },
   "file_extension": ".py",
   "mimetype": "text/x-python",
   "name": "python",
   "nbconvert_exporter": "python",
   "pygments_lexer": "ipython3",
   "version": "3.9.1"
  },
  "vscode": {
   "interpreter": {
    "hash": "aee8b7b246df8f9039afb4144a1f6fd8d2ca17a180786b69acc140d282b71a49"
   }
  }
 },
 "nbformat": 4,
 "nbformat_minor": 5
}
