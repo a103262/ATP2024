{
 "cells": [
  {
   "cell_type": "markdown",
   "id": "1e545158",
   "metadata": {},
   "source": [
    "# Aula Prática 2 (guião)\n",
    "### Semana de 16 a 20 de Setembro de 2024\n",
    "### José Carlos Ramalho e Luís Cunha\n",
    "### Sinopsis:\n",

import random
def jogo_adivinha_o_numero():
    print("Bem vindo ao jogo Adivinha o Número. ")
    print("Na modalidade 1, o computador pensa num número entre 0 e 100 e tem de adivinhar qual é.")
    print("Na modalidade 2, pense num número e o computador tenta adivinhar qual é.")
    print("Escolha uma modalidade.")
    escolha = input("Digite o número 1 ou 2 para escolher a modalidade: ")
    if escolha == 1:
         adivinha_utilizador()
    elif escolha == 2:
         adivinha_computador()
    else:
        print("Escolha inválida. Tente novamente.")

def adivinha_utilizador():
    print("Modalidade 1: Computador pensa num número entre 0 e 100.")
    numero_computador = random.randint(1, 100)
i = 1
palpite = int(input("Tente adivinhar o número: "))
while palpite != numero_computador:
    i = i + 1 
    if palpite > numero_computador:
            print("O número que pensei é Maior.")
    elif palpite < numero_computador:
            print("O número que pensei é Menor.")
else:
    print(f"Acertou em {i}! O número era {numero_computador}.")

def adivinha_computador():
    print("Modalidade 2: Pense num número entre 0 e 100.")
    palpite_computador = random.randit(1, 100)
    print (f"o computador acha que o número é {palpite_computador}")
    palpite = input("O computador acha que o numero que pensou é maior, menor ou o computador acertou: ")
    tentativas = 1
    
    while palpite != "certo" :
        tentativas = tentativas + 1
        if palpite ==  " O número que pensei é maior" :
             palpite_computador = random.randint(palpite_computador +1, 100)
             print(f"o computador acha que o número é {palpite_computador}")
        elif palpite == " o numero que pensei é menor ": 
             palpite_computador = random.randint(1, palpite_computador - 1)
        palpite = input("O número que pensou é maior, menor ou o computador está certo?: ")
    print(f" o computador acertou em {tentativas} tentativas, o número é {palpite_computador}")

jogo_adivinha_o_numero()
