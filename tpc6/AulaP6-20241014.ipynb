{
 "cells": [
  {
   "cell_type": "markdown",
   "id": "1e545158",
   "metadata": {},
   "source": [
    "# Aula Prática 6 (guião)\n",
    "### Semana de 14 a 18 de Outubro de 2024\n",
    "### José Carlos Ramalho e Luís Cunha\n",
    "### Sinopsis:\n",
    "Algoritmos e modelação de problemas com armazenamento em memória secundária."
   ]
  },
  {
   "cell_type": "markdown",
   "id": "1d9c2fbc",
   "metadata": {},
   "source": [
    "### Exercício 1: Polinómios\n",
    "\n",
    "Neste exercício, desenvolva as seguintes alíneas:"
   ]
  },
  {
   "cell_type": "markdown",
   "id": "8ef1ac42",
   "metadata": {},
   "source": [
    "#### a) Pense num modelo para polinómios e instancia os seguintes exemplos:\n",
    "\n",
    "* `x`\n",
    "* `2x + 1`\n",
    "* `7x^5 + 6x^3 - 2x^2 + 27`"
   ]
  },
  {
   "cell_type": "code",
   "execution_count": 1,
   "id": "64652352",
   "metadata": {},
   "outputs": [],
   "source": [
    "# grau = int\n",
    "# coeficiente = int\n",
    "# termo = (coe,grau)\n",
    "# polinomio = [termo]\n",
    "\n",
    "p1 = [(1,1)]\n",
    "p2 = [(2,1), (1,0)]\n",
    "p3 = [(7,5), (6,3), (-2,2), (27,0)]"
   ]
  },
  {
   "cell_type": "markdown",
   "id": "fdc3ff66",
   "metadata": {},
   "source": [
    "#### b) Defina uma função, ou funções, que pede ao utilizador a informação necessária para criar um polinómio, cria esse polinómio e devolve-o como resultado. Use a função criada para criar dois novos polinómios à sua escolha."
   ]
  },
  {
   "cell_type": "code",
   "execution_count": 2,
   "id": "fb44546a",
   "metadata": {},
   "outputs": [
    {
     "name": "stdout",
     "output_type": "stream",
     "text": [
      "[(3, 2), (4, 1), (2, 0)]\n"
     ]
    }
   ],
   "source": [
    "# Solução de 2.b)\n",
    "def criaPolIn():\n",
    "    polinomio = []\n",
    "    grau = int(input(\"Introduza o grau do polinomio\"))\n",
    "    while grau >= 0:\n",
    "        coe = int(input(f\"introduza o coeficiente de um grau {grau}\"))\n",
    "        termo = (coe, grau)\n",
    "        polinomio.append(termo)\n",
    "        grau = grau -1 \n",
    "    # ...\n",
    "    return polinomio\n",
    "\n",
    "p4 = criaPolIn()\n",
    "print(p4)"
   ]
  },
  {
   "cell_type": "markdown",
   "id": "9d3475e4",
   "metadata": {},
   "source": [
    "#### c) Defina uma função que calcula o valor do polinómio dado um valor de `x`"
   ]
  },
  {
   "cell_type": "code",
   "execution_count": null,
   "id": "c4c8dc32",
   "metadata": {},
   "outputs": [],
   "source": [
    "# Solução de 2.c)\n",
    "\n",
    "def calcPolinomio(p, x):\n",
    "    res = None\n",
    "    # ...\n",
    "    return res\n",
    "\n",
    "p2 = None\n",
    "calcPolinomio(p2,1)\n",
    "\n",
    "\n",
    "\n",
    "\n",
    "# Solução de 2.c) \n",
    "def pot (a, b):\n",
    "    res = 1\n",
    "    while b > 0 :\n",
    "        res = res * a\n",
    "        b = b - 1\n",
    "    return res\n",
    "\n",
    "def calcPolinomio (p, x) :\n",
    "    res = 0\n",
    "    for termo in p:\n",
    "\n",
    "#coef = termo [01\n",
    "#grau = termo [1]\n",
    "# isto é igual ao que temos a seguir\n",
    "# coef, grau = termo\n",
    "    res = res + coef * pot (x , grau)\n",
    "    return res\n",
    "print (calcPolinomio (p2, 2))\n",
    "\n",
    "\n",
    "def pot (a, b):\n",
    "    res = 1\n",
    "    while b > 0 :\n",
    "        res = res * a\n",
    "        b = b - 1\n",
    "    return res\n",
    "def calcPolinomio (p, x) :\n",
    "    res = 0\n",
    "    for termo in p:\n",
    "        res = res + termo [e] * pot (x , termo [1])\n",
    "        return res\n",
    "print (calcPolinomio (p2, 1))\n"
   ]
  },
  {
   "cell_type": "markdown",
   "id": "6da31132",
   "metadata": {},
   "source": [
    "Use a função criada para calcular o valor dum polinómio, à sua escolha, para valores de x em `[-10, 10]`."
   ]
  },
  {
   "cell_type": "code",
   "execution_count": null,
   "id": "9a1f0356",
   "metadata": {},
   "outputs": [],
   "source": [
    "# Valor de um polinómio no intervalo: [-10, 10]\n",
    "for x in range (-10,11):\n",
    "    res = calcPolinomio (p2, x)\n",
    "print(res)"
   ]
  },
  {
   "cell_type": "markdown",
   "id": "5fa6de75",
   "metadata": {},
   "source": [
    "#### d) Defina uma função que imprime no monitor o polinómio. Utilize-a para visualizar os polinómios criados até ao momento."
   ]
  },
  {
   "cell_type": "code",
   "execution_count": 3,
   "id": "b0716c72",
   "metadata": {},
   "outputs": [
    {
     "name": "stdout",
     "output_type": "stream",
     "text": [
      " + 21 + 10\n"
     ]
    }
   ],
   "source": [
    "# Solução de 1.d)\n",
    "def verPolinomio(p):\n",
    "    res = \"\"\n",
    "    for coe, grau in p:\n",
    "        if coe != 0:\n",
    "            res = res + \" + \" + str(coe) \n",
    "        elif coe != 0:\n",
    "            res = res + \" + \" + str(coe) + \"x^\" + str(grau)\n",
    "\n",
    "    print(res)\n",
    "    return\n",
    "verPolinomio(p2)\n",
    "  "
   ]
  },
  {
   "cell_type": "markdown",
   "id": "beb31acc",
   "metadata": {},
   "source": [
    "#### e) Defina uma função que calcula o grau de um polinómio dado. Aplique-a a alguns polinómios."
   ]
  },
  {
   "cell_type": "code",
   "execution_count": null,
   "id": "09816d6e",
   "metadata": {},
   "outputs": [],
   "source": [
    "# Solução de 1.e)\n",
    "def grauPolinomio(p):\n",
    "    maior = p[0][1]\n",
    "    for coe, grau in p[1:]:\n",
    "        if grau > maior:\n",
    "            maior = grau\n",
    "    \n",
    "    return "
   ]
  },
  {
   "cell_type": "markdown",
   "id": "5a1a7c41",
   "metadata": {},
   "source": [
    "#### f) Defina uma função que calcula o maior grau de uma lista de polinómios."
   ]
  },
  {
   "cell_type": "code",
   "execution_count": null,
   "id": "ca598c3d",
   "metadata": {},
   "outputs": [],
   "source": [
    "# Solução de 1.f)\n",
    "def grauPolinomios(listap):\n",
    "    #...\n",
    "    return "
   ]
  },
  {
   "cell_type": "markdown",
   "id": "0cfe33d8",
   "metadata": {},
   "source": [
    "#### g) Defina uma função que imprime no monitor uma tabela com n linhas: x | p(x)\n",
    "\n",
    "Aplique-a a alguns polinómios."
   ]
  },
  {
   "cell_type": "code",
   "execution_count": null,
   "id": "3619f63c",
   "metadata": {},
   "outputs": [],
   "source": [
    "# Solução de 1.g)\n",
    "def tabela(p, linhas):\n",
    "    #...\n",
    "    return"
   ]
  },
  {
   "cell_type": "markdown",
   "id": "df16478c",
   "metadata": {},
   "source": [
    "#### h) Define uma função que dado um polinómio calcula a sua derivada\n",
    "\n",
    "Aplique-a a alguns polinómios."
   ]
  },
  {
   "cell_type": "code",
   "execution_count": null,
   "id": "6bd99681",
   "metadata": {},
   "outputs": [],
   "source": [
    "# Solução de 1.h)\n",
    "def derivarPolinomio(p):\n",
    "    # ...\n",
    "    return"
   ]
  },
  {
   "cell_type": "markdown",
   "id": "5ea31c40",
   "metadata": {},
   "source": [
    "#### i) Define uma função que recebe dois polinómios `p1` e `p2` e calcula um novo polinómio correspondente à soma de `p1` e `p2`."
   ]
  },
  {
   "cell_type": "code",
   "execution_count": null,
   "id": "a2ef85a5",
   "metadata": {},
   "outputs": [],
   "source": [
    "# Solução de 1.i)\n",
    "def somarPolinomios(p1,p2):\n",
    "    ...\n",
    "    return"
   ]
  },
  {
   "cell_type": "markdown",
   "id": "a582ac17",
   "metadata": {},
   "source": [
    "#### j) Defina uma função para guardar uma lista de polinómios num ficheiro. Utilize-a para guardar os polinómios criados até ao momento."
   ]
  },
  {
   "cell_type": "code",
   "execution_count": null,
   "id": "e9d3fb2b",
   "metadata": {},
   "outputs": [],
   "source": [
    "p1 = [(1,1)]\n",
    "\n",
    "p2 = [(2,1), (1,0)]\n",
    "\n",
    "p3 = [(7,5), (6,3), (-2,2), (27,0)]\n",
    "\n",
    "listap = [p1,p2,p3]\n",
    "print(listap)"
   ]
  },
  {
   "cell_type": "code",
   "execution_count": null,
   "id": "2b3f58dd",
   "metadata": {},
   "outputs": [],
   "source": [
    "# Solução de 1.j\n",
    "def guardarPolinomios(listap, fnome):\n",
    "    file = open(fnome,\"w\") # \"r\", \"w\"\n",
    "    # ...\n",
    "    file.close()\n",
    "\n",
    "guardarPolinomios(listap,\"polinomios.txt\")\n"
   ]
  },
  {
   "cell_type": "markdown",
   "id": "7f7d1410",
   "metadata": {},
   "source": [
    "#### k) Defina uma função para recuperar um polinómio dum ficheiro. Utilize-a para ler o ficheiro criado na alínea anterior."
   ]
  },
  {
   "cell_type": "code",
   "execution_count": null,
   "id": "72081c41",
   "metadata": {},
   "outputs": [],
   "source": [
    "# Solução de 1.k)\n",
    "def recuperarPolinomios(fnome):\n",
    "    listap = []\n",
    "    file = open(fnome,\"r\")\n",
    "        # ...\n",
    "    file.close()\n",
    "    return listap\n",
    "\n",
    "print(recuperarPolinomios(\"polinomios.txt\") )"
   ]
  },
  {
   "cell_type": "markdown",
   "id": "fed2fbc4",
   "metadata": {},
   "source": [
    "#### l) Baseando-se nas funções até agora criadas, crie novas funções para manipular **listas de polinómios**: criar, ver, guardar e recuperar"
   ]
  },
  {
   "cell_type": "code",
   "execution_count": null,
   "id": "986c8587",
   "metadata": {},
   "outputs": [],
   "source": [
    "# Solução de 1.l)\n",
    "# ..."
   ]
  },
  {
   "cell_type": "markdown",
   "id": "6bea73df",
   "metadata": {},
   "source": [
    "#### m) Junte todas as funções num módulo, `polinomios.py`, e usa-o num pequeno programa exemplo"
   ]
  },
  {
   "cell_type": "code",
   "execution_count": null,
   "id": "82a2401b",
   "metadata": {},
   "outputs": [],
   "source": [
    "# Solução de 1.m)"
   ]
  },
  {
   "cell_type": "markdown",
   "id": "6da3f3b8",
   "metadata": {},
   "source": [
    "### TPC6: Aplicação para gestão de alunos\n",
    "\n",
    "Considere que o modelo do aluno e da turma têm a seguinte estrutura:\n",
    "\n",
    "`aluno = (nome, id, [notaTPC, notaProj, notaTeste])`\n",
    "\n",
    "`turma = [aluno]`\n",
    "\n",
    "* Cria uma aplicação que coloca no monitor o seguinte menu de operações:\n",
    "    - 1: Criar uma turma;\n",
    "    - 2: Inserir um aluno na turma;\n",
    "    - 3: Listar a turma;\n",
    "    - 4: Consultar um aluno por id;\n",
    "    - 8: Guardar a turma em ficheiro;\n",
    "    - 9: Carregar uma turma dum ficheiro;\n",
    "    - 0: Sair da aplicação\n",
    "* No fim de executar a operação selecionada, a aplicação deverá colocar novamente o menu e pedir ao utilizador a opção para continuar;\n",
    "* Utiliza a tua aplicação para criar uma turma com 5 alunos."
   ]
  },
  {
   "cell_type": "code",
   "execution_count": null,
   "id": "8cdde59e",
   "metadata": {},
   "outputs": [],
   "source": [
    "def inserir_aluno(nome, id, notas):\n",
    "    return(nome, id, notas)\n",
    "\n",
    "def listarAluno(turma):\n",
    "    print(\"\\nLista de Alunos: \")\n",
    "    for aluno in turma:\n",
    "        print(f\"Nome:{aluno[0]}, ID: {aluno[1]}, Notas{aluno[2]}\")\n",
    "\n",
    "def alunoPorID(turma, id):\n",
    "    for aluno in turma:\n",
    "        if aluno[1]==id:\n",
    "            return aluno\n",
    "    return None\n",
    "\n",
    "def guardarFicheiroTurma(turma, filename):\n",
    "    with open(filename, ‘w‘ ) as f:\n",
    "        for aluno in turma: \n",
    "            f.write(f\"{aluno[0]}, {aluno[1]}, {aluno[2][1]}, {aluno[2][2]}\\n\")\n",
    "    print(\"Turma guardada com sucesso.\")\n",
    "    \n",
    "def carregarTurma (filename):\n",
    "    turma = []\n",
    "    with open(filename, ‘r‘) as f:\n",
    "        for line in f:\n",
    "            nome, id, nota1, nota2, nota3 = line.strip().split(‘,‘)\n",
    "            notas = [float(nota1), float(nota2), float(nota3)]\n",
    "            turma.append(inserir_aluno(nome, id, notas))  \n",
    "\n",
    "    print(\"Turma carregada com sucesso.\")\n",
    "\n",
    "def main():\n",
    "    turma= []\n",
    "\n",
    "    while True:\n",
    "    print(\"\\Menu de opções: \")\n",
    "    print(\"1: Criar uma turma;\")\n",
    "    print(\"2: Inserir um aluno na turma\")\n",
    "    print(\" 3: Listar a turma;\")\n",
    "    print(\"4: Consultar um aluno por id;\")\n",
    "    print(\"8: Guardar a turma em ficheiro;\")\n",
    "    print(\"9: Carregar uma turma dum ficheiro;\")\n",
    "    print(\"0: Sair da aplicação\")\n",
    "    \n",
    "    opcao = int(input(\"opção: \"))\n",
    "\n",
    "    if opcao == 1:\n",
    "       turma = []\n",
    "       print(\"turma criada \")\n",
    "\n",
    "    elif opcao ==2:\n",
    "    nome = input(\" nome do aluno: \")\n",
    "    id = input(\"Id do aluno: \")\n",
    "    notas =[]\n",
    "    for i in range (3):\n",
    "        nota = float(input(f\"nota {i + 1}: \"))\n",
    "        notas.append(nota)\n",
    "    turma.append(inserir_aluno(nome , id, notas))\n",
    "    print(f\"Aluno {nome} inserido com sucesso.\")\n",
    "\n",
    "    elif opcao== 3:\n",
    "        listarAluno(turma)\n",
    "\n",
    "    elif opcao == 4:\n",
    "       id = input(\"ID do aluno que deseja encontrar: \")\n",
    "       aluno = alunoPorId( turma, id)\n",
    "       if aluno: \n",
    "          print (f\"aluno encontrado: Nome: {aluno[0]}, ID: {aluno[1]}, Notas: {aluno[2]}\")\n",
    "        else:\n",
    "        print(\"aluno nao encontrado.\")\n",
    "\n",
    "    elif opcao == 8:\n",
    "        filename = input(\"digite o nome do ficheiro para guardar a turma: \")\n",
    "        guardarFicheiroTurma( turma, filename )\n",
    "\n",
    "    elif opcao == 9: \n",
    "        filename = input(\" digite o nome do ficheiro para carregar a turma: \")\n",
    "        turma = carregarTurma(filename)\n",
    "\n",
    "    elif opcao == 0: \n",
    "        print(\" sair da aplicação.\")\n",
    "        break\n",
    "        \n",
    "    else:\n",
    "        print(\"opção inválida\")\n",
    "\n",
    "\n",
    "if __name__ == \"__main__\":\n",
    "    main()\n",
    "\n",
    "\n",
    "         "
   ]
  }
 ],
 "metadata": {
  "kernelspec": {
   "display_name": "Python 3.9.1 64-bit",
   "language": "python",
   "name": "python3"
  },
  "language_info": {
   "codemirror_mode": {
    "name": "ipython",
    "version": 3
   },
   "file_extension": ".py",
   "mimetype": "text/x-python",
   "name": "python",
   "nbconvert_exporter": "python",
   "pygments_lexer": "ipython3",
   "version": "3.12.6"
  },
  "vscode": {
   "interpreter": {
    "hash": "aee8b7b246df8f9039afb4144a1f6fd8d2ca17a180786b69acc140d282b71a49"
   }
  }
 },
 "nbformat": 4,
 "nbformat_minor": 5
}
